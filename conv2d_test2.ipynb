{
  "nbformat": 4,
  "nbformat_minor": 0,
  "metadata": {
    "colab": {
      "provenance": []
    },
    "kernelspec": {
      "name": "python3",
      "display_name": "Python 3"
    },
    "language_info": {
      "name": "python"
    }
  },
  "cells": [
    {
      "cell_type": "code",
      "source": [
        "import torch\n",
        "from torch import nn"
      ],
      "metadata": {
        "id": "NjzXWLyKp4Gw"
      },
      "execution_count": 1,
      "outputs": []
    },
    {
      "cell_type": "code",
      "source": [
        "class PeriodicPadding2D(nn.Module):\n",
        "    def __init__(self, pad_width, **kwargs):\n",
        "        super().__init__(**kwargs)\n",
        "        self.pad_width = pad_width\n",
        "\n",
        "    def forward(self, inputs, **kwargs):\n",
        "        if self.pad_width == 0:\n",
        "            return inputs\n",
        "        inputs_padded = torch.cat(\n",
        "            (\n",
        "                inputs[:, :, :, -self.pad_width :],\n",
        "                inputs,\n",
        "                inputs[:, :, :, : self.pad_width],\n",
        "            ),\n",
        "            dim=-1,\n",
        "        )\n",
        "        # Zero padding in the lat direction\n",
        "        inputs_padded = nn.functional.pad(\n",
        "            inputs_padded, (0, 0, self.pad_width, self.pad_width)\n",
        "        )\n",
        "        return inputs_padded"
      ],
      "metadata": {
        "id": "BWyAZj7K0fS3"
      },
      "execution_count": 90,
      "outputs": []
    },
    {
      "cell_type": "code",
      "source": [
        "inputs=torch.arange(2*2).reshape(1,1,2,2).float()"
      ],
      "metadata": {
        "id": "0uU3_NprqUe7"
      },
      "execution_count": 91,
      "outputs": []
    },
    {
      "cell_type": "code",
      "source": [
        "print(inputs)"
      ],
      "metadata": {
        "colab": {
          "base_uri": "https://localhost:8080/"
        },
        "id": "LwOhr657qmzl",
        "outputId": "4d6bd267-3dc7-4052-e6d7-1d9d074ed5cd"
      },
      "execution_count": 92,
      "outputs": [
        {
          "output_type": "stream",
          "name": "stdout",
          "text": [
            "tensor([[[[0., 1.],\n",
            "          [2., 3.]]]])\n"
          ]
        }
      ]
    },
    {
      "cell_type": "code",
      "source": [
        "test = PeriodicPadding2D(1)\n",
        "print(test(inputs))"
      ],
      "metadata": {
        "colab": {
          "base_uri": "https://localhost:8080/"
        },
        "id": "4Ad9ISUx0lmF",
        "outputId": "b63877ce-475f-4cb2-b1d7-77a54caf8546"
      },
      "execution_count": 94,
      "outputs": [
        {
          "output_type": "stream",
          "name": "stdout",
          "text": [
            "tensor([[[[0., 0., 0., 0.],\n",
            "          [1., 0., 1., 0.],\n",
            "          [3., 2., 3., 2.],\n",
            "          [0., 0., 0., 0.]]]])\n"
          ]
        }
      ]
    },
    {
      "cell_type": "code",
      "source": [
        "m = nn.Conv2d(1, 1, 2, padding=1, stride=1, dilation=2)"
      ],
      "metadata": {
        "id": "2JAXLlMntwcm"
      },
      "execution_count": 62,
      "outputs": []
    },
    {
      "cell_type": "code",
      "source": [
        "print(m)"
      ],
      "metadata": {
        "colab": {
          "base_uri": "https://localhost:8080/"
        },
        "id": "oQFD_QC0uEh7",
        "outputId": "fcdfc7de-7a6c-4497-a217-1db51d0cf5e2"
      },
      "execution_count": 63,
      "outputs": [
        {
          "output_type": "stream",
          "name": "stdout",
          "text": [
            "Conv2d(1, 1, kernel_size=(2, 2), stride=(1, 1), padding=(1, 1), dilation=(2, 2))\n"
          ]
        }
      ]
    },
    {
      "cell_type": "code",
      "source": [
        "m(inputs)"
      ],
      "metadata": {
        "colab": {
          "base_uri": "https://localhost:8080/"
        },
        "id": "6SdH2Y__uN7V",
        "outputId": "2fd88a09-32b3-4c59-e94b-2673a6bbd004"
      },
      "execution_count": 64,
      "outputs": [
        {
          "output_type": "execute_result",
          "data": {
            "text/plain": [
              "tensor([[[[ 0.5404, -0.3138],\n",
              "          [-0.0263, -0.2362]]]], grad_fn=<ConvolutionBackward0>)"
            ]
          },
          "metadata": {},
          "execution_count": 64
        }
      ]
    },
    {
      "cell_type": "code",
      "source": [
        "print(m.weight)"
      ],
      "metadata": {
        "colab": {
          "base_uri": "https://localhost:8080/"
        },
        "id": "tNE9c3DYvtzO",
        "outputId": "720bf57f-9098-4e58-a402-e226a6f8ffbe"
      },
      "execution_count": 65,
      "outputs": [
        {
          "output_type": "stream",
          "name": "stdout",
          "text": [
            "Parameter containing:\n",
            "tensor([[[[-0.3872,  0.2099],\n",
            "          [-0.0388,  0.2589]]]], requires_grad=True)\n"
          ]
        }
      ]
    },
    {
      "cell_type": "code",
      "source": [
        "print(m.weight.shape)"
      ],
      "metadata": {
        "colab": {
          "base_uri": "https://localhost:8080/"
        },
        "id": "S6A8epi4urGT",
        "outputId": "36f1d4c1-a54f-4283-df55-4022ce0d2413"
      },
      "execution_count": 66,
      "outputs": [
        {
          "output_type": "stream",
          "name": "stdout",
          "text": [
            "torch.Size([1, 1, 2, 2])\n"
          ]
        }
      ]
    },
    {
      "cell_type": "code",
      "source": [
        "print(m.bias)"
      ],
      "metadata": {
        "colab": {
          "base_uri": "https://localhost:8080/"
        },
        "id": "tj5-LhsOuv-9",
        "outputId": "fa1576b0-61f8-42fa-c012-4550d2db3ce9"
      },
      "execution_count": 67,
      "outputs": [
        {
          "output_type": "stream",
          "name": "stdout",
          "text": [
            "Parameter containing:\n",
            "tensor([-0.2362], requires_grad=True)\n"
          ]
        }
      ]
    },
    {
      "cell_type": "code",
      "source": [
        "(inputs*m.weight).sum()+m.bias"
      ],
      "metadata": {
        "colab": {
          "base_uri": "https://localhost:8080/"
        },
        "id": "-_Pqw3lpwIIH",
        "outputId": "add8f53a-cabb-41d0-dc1b-5110a66c9b11"
      },
      "execution_count": 61,
      "outputs": [
        {
          "output_type": "execute_result",
          "data": {
            "text/plain": [
              "tensor([-1.1350], grad_fn=<AddBackward0>)"
            ]
          },
          "metadata": {},
          "execution_count": 61
        }
      ]
    },
    {
      "cell_type": "code",
      "source": [
        "mg = nn.Conv2d(2, 2, 2, padding=1, stride=1, dilation=1, groups=1)\n",
        "inputs=torch.arange(2*2*2).reshape(1,2,2,2).float()\n",
        "print(inputs)"
      ],
      "metadata": {
        "colab": {
          "base_uri": "https://localhost:8080/"
        },
        "id": "9ylO01_ay1Cq",
        "outputId": "9bdbb509-f892-4656-e848-fb852ffce1d7"
      },
      "execution_count": 78,
      "outputs": [
        {
          "output_type": "stream",
          "name": "stdout",
          "text": [
            "tensor([[[[0., 1.],\n",
            "          [2., 3.]],\n",
            "\n",
            "         [[4., 5.],\n",
            "          [6., 7.]]]])\n"
          ]
        }
      ]
    },
    {
      "cell_type": "code",
      "source": [
        "print(\"shape: \", mg.weight.shape)\n",
        "print(\"values: \", mg.weight)"
      ],
      "metadata": {
        "colab": {
          "base_uri": "https://localhost:8080/"
        },
        "id": "3ulzJkKqy60B",
        "outputId": "e7e696bb-34d8-46b8-e5ec-569d0a75aa90"
      },
      "execution_count": 79,
      "outputs": [
        {
          "output_type": "stream",
          "name": "stdout",
          "text": [
            "shape:  torch.Size([2, 2, 2, 2])\n",
            "values:  Parameter containing:\n",
            "tensor([[[[-0.0515,  0.2466],\n",
            "          [-0.1008, -0.1423]],\n",
            "\n",
            "         [[ 0.3036,  0.3058],\n",
            "          [ 0.0263, -0.2055]]],\n",
            "\n",
            "\n",
            "        [[[-0.1418, -0.2214],\n",
            "          [ 0.0306, -0.1865]],\n",
            "\n",
            "         [[ 0.1498,  0.0009],\n",
            "          [ 0.1374, -0.3461]]]], requires_grad=True)\n"
          ]
        }
      ]
    }
  ]
}